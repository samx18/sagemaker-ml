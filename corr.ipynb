{
 "cells": [
  {
   "cell_type": "markdown",
   "metadata": {},
   "source": [
    "# Correlation \n",
    "\n",
    "## Section 0 - Overview\n",
    "\n",
    "This notebook starts with a overview of correlation and goes on to show different methods of calculating correlation coefficients.\n",
    "\n",
    "### Types of correlation\n",
    "\n",
    "* *Positive Correlation*: both variables change in the same direction.\n",
    "* *Neutral Correlation*: No relationship in the change of the variables.\n",
    "* *Negative Correlation*: variables change in opposite directions.\n"
   ]
  },
  {
   "cell_type": "markdown",
   "metadata": {},
   "source": [
    "## Section 1 -  Variance and Covariance\n",
    "\n",
    "### Variance\n",
    "\n",
    "Measure of variablity or spread of data. Mathematically it is the average squared deviation from the mean score\n",
    "\n",
    "$$var(x) = \\frac{\\sum(x_i - \\overline{x})^2}{ N} $$\n",
    "\n",
    "### Covariance\n",
    "\n",
    "When variables are linearly correlated the relationship between those variables is known as covariance. In other words the extent to which the corresponding elements from the two datasets move in the same direction.\n",
    "\n",
    "$$cov(X, Y) = (\\sum (x-\\overline{x}) \\times (y - \\overline{y})) \\times \\frac{1}{(n-1)}$$\n",
    "\n",
    "The sign of the covariance tells us if they are positively or negatively correlated \n"
   ]
  },
  {
   "cell_type": "code",
   "execution_count": 6,
   "metadata": {},
   "outputs": [],
   "source": [
    "from numpy import mean\n",
    "from numpy import std\n",
    "from numpy.random import randn\n",
    "from numpy.random import seed\n",
    "from matplotlib import pyplot"
   ]
  },
  {
   "cell_type": "code",
   "execution_count": 7,
   "metadata": {},
   "outputs": [],
   "source": [
    "# seed random number generator \n",
    "seed(1)"
   ]
  },
  {
   "cell_type": "code",
   "execution_count": 8,
   "metadata": {},
   "outputs": [],
   "source": [
    "# prepare datasets\n",
    "data1 = 20* randn(1000)+100\n",
    "data2 = data1 + (10 * randn(1000) +50)"
   ]
  },
  {
   "cell_type": "code",
   "execution_count": 9,
   "metadata": {},
   "outputs": [
    {
     "name": "stdout",
     "output_type": "stream",
     "text": [
      "data1: mean=100.776 stdv=19.620\n",
      "data2: mean=151.050 stdv=22.358\n"
     ]
    }
   ],
   "source": [
    "# summarize\n",
    "print('data1: mean=%.3f stdv=%.3f' % (mean(data1), std(data1)))\n",
    "print('data2: mean=%.3f stdv=%.3f' % (mean(data2), std(data2)))"
   ]
  },
  {
   "cell_type": "code",
   "execution_count": 10,
   "metadata": {},
   "outputs": [
    {
     "name": "stdout",
     "output_type": "stream",
     "text": [
      "Mean of data1 19.62\n"
     ]
    }
   ],
   "source": [
    "print(\"Mean of data1 %.2f\" %std(data1))"
   ]
  },
  {
   "cell_type": "code",
   "execution_count": 11,
   "metadata": {},
   "outputs": [
    {
     "data": {
      "image/png": "[encoded data removed]",
      "text/plain": [
       "<Figure size 432x288 with 1 Axes>"
      ]
     },
     "metadata": {
      "needs_background": "light"
     },
     "output_type": "display_data"
    }
   ],
   "source": [
    "# plot\n",
    "pyplot.scatter(data1,data2)\n",
    "pyplot.show()"
   ]
  },
  {
   "cell_type": "code",
   "execution_count": 12,
   "metadata": {},
   "outputs": [
    {
     "name": "stdout",
     "output_type": "stream",
     "text": [
      "[[385.33297729 389.7545618 ]\n",
      " [389.7545618  500.38006058]]\n"
     ]
    }
   ],
   "source": [
    "# Calculate the variance-covariance matrix\n",
    "# cov(X, Y) = (sum (x - mean(X)) * (y - mean(Y)) ) * 1/(n-1)`\n",
    "from numpy import cov\n",
    "covariance = cov(data1,data2)\n",
    "print (covariance)"
   ]
  },
  {
   "cell_type": "markdown",
   "metadata": {},
   "source": [
    "**Interpretation**\n",
    "\n",
    "The diagonal elements represent the variance, i.e. the variance of data1 = 385.333 and data2 = 500.380. \n",
    "The off-diagonal elements represent the covariance between data1 and data2, which is 389.754 also indicating a positive correlation between the datasets.\n",
    "\n",
    "Since mean and standard deviation are used, the distribution is assumed to be a _**Gaussian (normal) distribution**_"
   ]
  },
  {
   "cell_type": "markdown",
   "metadata": {},
   "source": [
    "## Section 2 - Pearsons Correlation\n",
    "\n",
    "The pearsons correlation coefficient is calculated by dividing the covariance of two datasets by the product of the standard deviation of each dataset.\n",
    "\n",
    "$$ r = \\frac{cov(X,Y)}{\\sigma X \\times \\sigma Y }$$\n",
    "\n",
    "`Pearson's correlation coefficient = covariance(X, Y) / (stdv(X) * stdv(Y))`\n",
    "\n",
    "The coefficient returns a value between -1 and +1. The value 0 means there is no correlation.\n"
   ]
  },
  {
   "cell_type": "code",
   "execution_count": 14,
   "metadata": {},
   "outputs": [
    {
     "name": "stdout",
     "output_type": "stream",
     "text": [
      "Pearsons correlation: 0.888\n"
     ]
    }
   ],
   "source": [
    "from scipy.stats import pearsonr\n",
    "corr,_ = pearsonr(data1, data2) #using a throwaway variable `_`\n",
    "print('Pearsons correlation: %.3f' % corr)"
   ]
  },
  {
   "cell_type": "markdown",
   "metadata": {},
   "source": [
    "Since mean and standard deviation are used, the distribution is assumed to be a _**Gaussian (normal) distribution**_"
   ]
  },
  {
   "cell_type": "markdown",
   "metadata": {},
   "source": [
    "## Section 3 - Spearman's Correlation\n",
    "\n",
    "There are cases when the two variables are not linearly correlated or when the distrubution is non-Gaussion. In these cases we can use the Spearman's correlation. As with the Pearson correlation coefficient, the scores are between -1 and 1. \n",
    "\n",
    "Instead of calulating the covariance and standard deviation of the values of the dataset directly, we calculate on the relative rank of values on each sample. This is a common approach for non-parametric statistics, i.e. statistics where the distribution is not assumed to be Gaussian / normal\n",
    "\n",
    "`Spearman's correlation coefficient = covariance(rank(X), rank(Y)) / (stdv(rank(X)) * stdv(rank(Y)))`\n",
    "\n",
    "$$r = \\frac{cov(rg_X,rg_Y)}{\\sigma rg_X \\times \\sigma rg_Y }$$\n",
    "\n",
    "_if you are unsure of the distribution of your dataset , Spearman's correlation is a good choice_\n",
    "\n",
    "\n"
   ]
  },
  {
   "cell_type": "code",
   "execution_count": 17,
   "metadata": {},
   "outputs": [
    {
     "name": "stdout",
     "output_type": "stream",
     "text": [
      "Spearmans correlation: 0.872\n"
     ]
    }
   ],
   "source": [
    "# calculate spearman's correlation\n",
    "from scipy.stats import spearmanr\n",
    "corr, _ = spearmanr(data1, data2)\n",
    "print('Spearmans correlation: %.3f' % corr)"
   ]
  },
  {
   "cell_type": "code",
   "execution_count": null,
   "metadata": {},
   "outputs": [],
   "source": []
  }
 ],
 "metadata": {
  "kernelspec": {
   "display_name": "Python 3 (Data Science)",
   "language": "python",
   "name": "python3__SAGEMAKER_INTERNAL__arn:aws:sagemaker:us-east-2:429704687514:environment/datascience"
  },
  "language_info": {
   "codemirror_mode": {
    "name": "ipython",
    "version": 3
   },
   "file_extension": ".py",
   "mimetype": "text/x-python",
   "name": "python",
   "nbconvert_exporter": "python",
   "pygments_lexer": "ipython3",
   "version": "3.7.3"
  }
 },
 "nbformat": 4,
 "nbformat_minor": 4
}
